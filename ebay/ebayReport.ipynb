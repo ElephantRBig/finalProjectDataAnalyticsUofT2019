{
 "cells": [
  {
   "cell_type": "code",
   "execution_count": 1,
   "metadata": {},
   "outputs": [],
   "source": [
    "import pandas as pd "
   ]
  },
  {
   "cell_type": "code",
   "execution_count": 2,
   "metadata": {},
   "outputs": [],
   "source": [
    "ebayReport = pd.read_csv('cleanedEbaySalesData.csv', encoding = 'ISO-8859-1')"
   ]
  },
  {
   "cell_type": "code",
   "execution_count": 3,
   "metadata": {
    "scrolled": true
   },
   "outputs": [
    {
     "data": {
      "text/html": [
       "<div>\n",
       "<style scoped>\n",
       "    .dataframe tbody tr th:only-of-type {\n",
       "        vertical-align: middle;\n",
       "    }\n",
       "\n",
       "    .dataframe tbody tr th {\n",
       "        vertical-align: top;\n",
       "    }\n",
       "\n",
       "    .dataframe thead th {\n",
       "        text-align: right;\n",
       "    }\n",
       "</style>\n",
       "<table border=\"1\" class=\"dataframe\">\n",
       "  <thead>\n",
       "    <tr style=\"text-align: right;\">\n",
       "      <th></th>\n",
       "      <th>Type</th>\n",
       "      <th>Date</th>\n",
       "      <th>Num</th>\n",
       "      <th>Ship To Address 1</th>\n",
       "      <th>Ship To Address 2</th>\n",
       "      <th>Ship Postal Code</th>\n",
       "      <th>Item</th>\n",
       "      <th>Qty</th>\n",
       "      <th>Sales Price</th>\n",
       "      <th>Amount</th>\n",
       "    </tr>\n",
       "  </thead>\n",
       "  <tbody>\n",
       "    <tr>\n",
       "      <th>0</th>\n",
       "      <td>Invoice</td>\n",
       "      <td>02/04/2019</td>\n",
       "      <td>14496</td>\n",
       "      <td>Dallin Young DDS</td>\n",
       "      <td>114 Minnie Street,</td>\n",
       "      <td>99701</td>\n",
       "      <td>3MD-51102(E)</td>\n",
       "      <td>4</td>\n",
       "      <td>30.00</td>\n",
       "      <td>120.00</td>\n",
       "    </tr>\n",
       "    <tr>\n",
       "      <th>1</th>\n",
       "      <td>Invoice</td>\n",
       "      <td>02/04/2019</td>\n",
       "      <td>14496</td>\n",
       "      <td>Dallin Young DDS</td>\n",
       "      <td>114 Minnie Street,</td>\n",
       "      <td>99701</td>\n",
       "      <td>Shipping Charge</td>\n",
       "      <td>1</td>\n",
       "      <td>4.00</td>\n",
       "      <td>4.00</td>\n",
       "    </tr>\n",
       "    <tr>\n",
       "      <th>2</th>\n",
       "      <td>Credit Memo</td>\n",
       "      <td>02/04/2019</td>\n",
       "      <td>14500</td>\n",
       "      <td>Dallin Young DDS</td>\n",
       "      <td>114 Minnie Street,</td>\n",
       "      <td>99701</td>\n",
       "      <td>3MD-51102(E)</td>\n",
       "      <td>-4</td>\n",
       "      <td>30.00</td>\n",
       "      <td>-120.00</td>\n",
       "    </tr>\n",
       "    <tr>\n",
       "      <th>3</th>\n",
       "      <td>Credit Memo</td>\n",
       "      <td>02/04/2019</td>\n",
       "      <td>14500</td>\n",
       "      <td>Dallin Young DDS</td>\n",
       "      <td>114 Minnie Street,</td>\n",
       "      <td>99701</td>\n",
       "      <td>Shipping Charge</td>\n",
       "      <td>-1</td>\n",
       "      <td>4.00</td>\n",
       "      <td>-4.00</td>\n",
       "    </tr>\n",
       "    <tr>\n",
       "      <th>4</th>\n",
       "      <td>Invoice</td>\n",
       "      <td>04/12/2019</td>\n",
       "      <td>17163</td>\n",
       "      <td>Glennallen Family Dentistry Dr. Kevin She</td>\n",
       "      <td>Mile 187 Glenn highway/mabel lane</td>\n",
       "      <td>99588</td>\n",
       "      <td>DEN-66002861</td>\n",
       "      <td>1</td>\n",
       "      <td>59.99</td>\n",
       "      <td>59.99</td>\n",
       "    </tr>\n",
       "  </tbody>\n",
       "</table>\n",
       "</div>"
      ],
      "text/plain": [
       "          Type        Date    Num                          Ship To Address 1  \\\n",
       "0      Invoice  02/04/2019  14496                           Dallin Young DDS   \n",
       "1      Invoice  02/04/2019  14496                           Dallin Young DDS   \n",
       "2  Credit Memo  02/04/2019  14500                           Dallin Young DDS   \n",
       "3  Credit Memo  02/04/2019  14500                           Dallin Young DDS   \n",
       "4      Invoice  04/12/2019  17163  Glennallen Family Dentistry Dr. Kevin She   \n",
       "\n",
       "                   Ship To Address 2 Ship Postal Code             Item  Qty  \\\n",
       "0                 114 Minnie Street,            99701     3MD-51102(E)    4   \n",
       "1                 114 Minnie Street,            99701  Shipping Charge    1   \n",
       "2                 114 Minnie Street,            99701     3MD-51102(E)   -4   \n",
       "3                 114 Minnie Street,            99701  Shipping Charge   -1   \n",
       "4  Mile 187 Glenn highway/mabel lane            99588     DEN-66002861    1   \n",
       "\n",
       "   Sales Price  Amount  \n",
       "0        30.00  120.00  \n",
       "1         4.00    4.00  \n",
       "2        30.00 -120.00  \n",
       "3         4.00   -4.00  \n",
       "4        59.99   59.99  "
      ]
     },
     "execution_count": 3,
     "metadata": {},
     "output_type": "execute_result"
    }
   ],
   "source": [
    "ebayReport.tail()"
   ]
  },
  {
   "cell_type": "code",
   "execution_count": 4,
   "metadata": {},
   "outputs": [],
   "source": [
    "# Dropping an unnecessary column \n",
    "ebayReport = ebayReport.drop(columns = {'Sales Price'})\n",
    "\n",
    "# Renaming a column to properly represent it's content\n",
    "ebayReport = ebayReport.rename(columns = {'Amount':'Sales Total'})\n",
    "\n",
    "# Dropping an unnecessary column \n",
    "ebayReport = ebayReport.drop(columns = {'Ship To Address 1'})\n",
    "\n",
    "# Renaming a column to properly represent it's content\n",
    "ebayReport = ebayReport.rename(columns = {'Ship To Address 2':'Address'})\n",
    "\n",
    "# Renaming a column to properly represent it's content\n",
    "ebayReport = ebayReport.rename(columns ={'Num':'Invoice Number'})"
   ]
  },
  {
   "cell_type": "code",
   "execution_count": 5,
   "metadata": {},
   "outputs": [],
   "source": [
    "ebayReport = ebayReport.loc[ebayReport['Type']=='Invoice']"
   ]
  },
  {
   "cell_type": "code",
   "execution_count": null,
   "metadata": {},
   "outputs": [],
   "source": [
    "# from dfply import * \n",
    "# data= pd.read_csv('cleanedEbaySalesData.csv', encoding = 'ISO-8859-1')\n",
    "\n",
    "# data >> select(X.Type, X.Date, X.Qty) >> mask(X.Type == \"Invoice\") >> head(3) \n",
    "\n",
    "# data >> group_by(X.Type) >> summarize(TotalQuantity = X.Qty.sum()) \n",
    "\n",
    "# data >> arrange(X.Date, ascending = False) >> head(5) "
   ]
  },
  {
   "cell_type": "code",
   "execution_count": 6,
   "metadata": {},
   "outputs": [
    {
     "data": {
      "text/html": [
       "<div>\n",
       "<style scoped>\n",
       "    .dataframe tbody tr th:only-of-type {\n",
       "        vertical-align: middle;\n",
       "    }\n",
       "\n",
       "    .dataframe tbody tr th {\n",
       "        vertical-align: top;\n",
       "    }\n",
       "\n",
       "    .dataframe thead th {\n",
       "        text-align: right;\n",
       "    }\n",
       "</style>\n",
       "<table border=\"1\" class=\"dataframe\">\n",
       "  <thead>\n",
       "    <tr style=\"text-align: right;\">\n",
       "      <th></th>\n",
       "      <th>Type</th>\n",
       "      <th>Date</th>\n",
       "      <th>Invoice Number</th>\n",
       "      <th>Address</th>\n",
       "      <th>Ship Postal Code</th>\n",
       "      <th>Item</th>\n",
       "      <th>Qty</th>\n",
       "      <th>Sales Total</th>\n",
       "    </tr>\n",
       "  </thead>\n",
       "  <tbody>\n",
       "    <tr>\n",
       "      <th>0</th>\n",
       "      <td>Invoice</td>\n",
       "      <td>02/04/2019</td>\n",
       "      <td>14496</td>\n",
       "      <td>114 Minnie Street,</td>\n",
       "      <td>99701</td>\n",
       "      <td>3MD-51102(E)</td>\n",
       "      <td>4</td>\n",
       "      <td>120.00</td>\n",
       "    </tr>\n",
       "    <tr>\n",
       "      <th>1</th>\n",
       "      <td>Invoice</td>\n",
       "      <td>02/04/2019</td>\n",
       "      <td>14496</td>\n",
       "      <td>114 Minnie Street,</td>\n",
       "      <td>99701</td>\n",
       "      <td>Shipping Charge</td>\n",
       "      <td>1</td>\n",
       "      <td>4.00</td>\n",
       "    </tr>\n",
       "    <tr>\n",
       "      <th>4</th>\n",
       "      <td>Invoice</td>\n",
       "      <td>04/12/2019</td>\n",
       "      <td>17163</td>\n",
       "      <td>Mile 187 Glenn highway/mabel lane</td>\n",
       "      <td>99588</td>\n",
       "      <td>DEN-66002861</td>\n",
       "      <td>1</td>\n",
       "      <td>59.99</td>\n",
       "    </tr>\n",
       "    <tr>\n",
       "      <th>5</th>\n",
       "      <td>Invoice</td>\n",
       "      <td>04/12/2019</td>\n",
       "      <td>17163</td>\n",
       "      <td>Mile 187 Glenn highway/mabel lane</td>\n",
       "      <td>99588</td>\n",
       "      <td>Shipping Charge</td>\n",
       "      <td>1</td>\n",
       "      <td>4.00</td>\n",
       "    </tr>\n",
       "    <tr>\n",
       "      <th>8</th>\n",
       "      <td>Invoice</td>\n",
       "      <td>01/28/2019</td>\n",
       "      <td>14050</td>\n",
       "      <td>412 E Pioneer Ave</td>\n",
       "      <td>99603</td>\n",
       "      <td>3MD-6021A3</td>\n",
       "      <td>3</td>\n",
       "      <td>170.85</td>\n",
       "    </tr>\n",
       "  </tbody>\n",
       "</table>\n",
       "</div>"
      ],
      "text/plain": [
       "      Type        Date  Invoice Number                            Address  \\\n",
       "0  Invoice  02/04/2019           14496                 114 Minnie Street,   \n",
       "1  Invoice  02/04/2019           14496                 114 Minnie Street,   \n",
       "4  Invoice  04/12/2019           17163  Mile 187 Glenn highway/mabel lane   \n",
       "5  Invoice  04/12/2019           17163  Mile 187 Glenn highway/mabel lane   \n",
       "8  Invoice  01/28/2019           14050                  412 E Pioneer Ave   \n",
       "\n",
       "  Ship Postal Code             Item  Qty  Sales Total  \n",
       "0            99701     3MD-51102(E)    4       120.00  \n",
       "1            99701  Shipping Charge    1         4.00  \n",
       "4            99588     DEN-66002861    1        59.99  \n",
       "5            99588  Shipping Charge    1         4.00  \n",
       "8            99603       3MD-6021A3    3       170.85  "
      ]
     },
     "execution_count": 6,
     "metadata": {},
     "output_type": "execute_result"
    }
   ],
   "source": [
    "ebayReport.head()"
   ]
  },
  {
   "cell_type": "code",
   "execution_count": 7,
   "metadata": {},
   "outputs": [],
   "source": [
    "# In this cell, i wil be adding the main IDs first and then landing costs to each item by importing the 'databaseVersion1' \n",
    "databaseLandingCosts = pd.read_csv('net32CostOfGoods.csv')"
   ]
  },
  {
   "cell_type": "code",
   "execution_count": 8,
   "metadata": {},
   "outputs": [
    {
     "data": {
      "text/html": [
       "<div>\n",
       "<style scoped>\n",
       "    .dataframe tbody tr th:only-of-type {\n",
       "        vertical-align: middle;\n",
       "    }\n",
       "\n",
       "    .dataframe tbody tr th {\n",
       "        vertical-align: top;\n",
       "    }\n",
       "\n",
       "    .dataframe thead th {\n",
       "        text-align: right;\n",
       "    }\n",
       "</style>\n",
       "<table border=\"1\" class=\"dataframe\">\n",
       "  <thead>\n",
       "    <tr style=\"text-align: right;\">\n",
       "      <th></th>\n",
       "      <th>Item</th>\n",
       "      <th>Description</th>\n",
       "      <th>Cost</th>\n",
       "    </tr>\n",
       "  </thead>\n",
       "  <tbody>\n",
       "    <tr>\n",
       "      <th>0</th>\n",
       "      <td>3MD-10771(E)</td>\n",
       "      <td>3M ESPE IMPRINT 3 HEAVY BODY REFILL CARTRIDGES...</td>\n",
       "      <td>76.67</td>\n",
       "    </tr>\n",
       "    <tr>\n",
       "      <th>1</th>\n",
       "      <td>3MD-10771J</td>\n",
       "      <td>3M ESPE IMPRINT 3 HEAVY BODY CARTRIDGE JUMBO P...</td>\n",
       "      <td>298.09</td>\n",
       "    </tr>\n",
       "    <tr>\n",
       "      <th>2</th>\n",
       "      <td>3MD-12627(E)</td>\n",
       "      <td>3M ESPE CLINPRO SEALANT SYRINGE REFILL 10 X1.2ML</td>\n",
       "      <td>10.66</td>\n",
       "    </tr>\n",
       "    <tr>\n",
       "      <th>3</th>\n",
       "      <td>3MD-1942FB</td>\n",
       "      <td>3M ESPE MASKS FLUID RESIST (50/BX)</td>\n",
       "      <td>18.11</td>\n",
       "    </tr>\n",
       "    <tr>\n",
       "      <th>4</th>\n",
       "      <td>3MD-1942FR</td>\n",
       "      <td>3M ESPE MASKS FLUID RESIST (50/BX)</td>\n",
       "      <td>18.11</td>\n",
       "    </tr>\n",
       "  </tbody>\n",
       "</table>\n",
       "</div>"
      ],
      "text/plain": [
       "           Item                                        Description    Cost\n",
       "0  3MD-10771(E)  3M ESPE IMPRINT 3 HEAVY BODY REFILL CARTRIDGES...   76.67\n",
       "1    3MD-10771J  3M ESPE IMPRINT 3 HEAVY BODY CARTRIDGE JUMBO P...  298.09\n",
       "2  3MD-12627(E)   3M ESPE CLINPRO SEALANT SYRINGE REFILL 10 X1.2ML   10.66\n",
       "3    3MD-1942FB                 3M ESPE MASKS FLUID RESIST (50/BX)   18.11\n",
       "4    3MD-1942FR                 3M ESPE MASKS FLUID RESIST (50/BX)   18.11"
      ]
     },
     "execution_count": 8,
     "metadata": {},
     "output_type": "execute_result"
    }
   ],
   "source": [
    "databaseLandingCosts.head()"
   ]
  },
  {
   "cell_type": "code",
   "execution_count": 9,
   "metadata": {
    "scrolled": true
   },
   "outputs": [
    {
     "ename": "KeyboardInterrupt",
     "evalue": "",
     "output_type": "error",
     "traceback": [
      "\u001b[1;31m---------------------------------------------------------------------------\u001b[0m",
      "\u001b[1;31mKeyboardInterrupt\u001b[0m                         Traceback (most recent call last)",
      "\u001b[1;32m<ipython-input-9-5c2b439ee3dc>\u001b[0m in \u001b[0;36m<module>\u001b[1;34m\u001b[0m\n\u001b[0;32m      4\u001b[0m \u001b[1;32mfor\u001b[0m \u001b[0mi\u001b[0m \u001b[1;32min\u001b[0m \u001b[0mrange\u001b[0m\u001b[1;33m(\u001b[0m\u001b[1;36m0\u001b[0m\u001b[1;33m,\u001b[0m\u001b[0mlen\u001b[0m\u001b[1;33m(\u001b[0m\u001b[0mebayReport\u001b[0m\u001b[1;33m[\u001b[0m\u001b[1;34m'Item'\u001b[0m\u001b[1;33m]\u001b[0m\u001b[1;33m.\u001b[0m\u001b[0munique\u001b[0m\u001b[1;33m(\u001b[0m\u001b[1;33m)\u001b[0m\u001b[1;33m)\u001b[0m\u001b[1;33m)\u001b[0m\u001b[1;33m:\u001b[0m\u001b[1;33m\u001b[0m\u001b[1;33m\u001b[0m\u001b[0m\n\u001b[0;32m      5\u001b[0m     \u001b[1;32mfor\u001b[0m \u001b[0mj\u001b[0m \u001b[1;32min\u001b[0m \u001b[0mrange\u001b[0m\u001b[1;33m(\u001b[0m\u001b[1;36m0\u001b[0m\u001b[1;33m,\u001b[0m\u001b[0mlen\u001b[0m\u001b[1;33m(\u001b[0m\u001b[0mdatabaseLandingCosts\u001b[0m\u001b[1;33m[\u001b[0m\u001b[1;34m'Item'\u001b[0m\u001b[1;33m]\u001b[0m\u001b[1;33m.\u001b[0m\u001b[0munique\u001b[0m\u001b[1;33m(\u001b[0m\u001b[1;33m)\u001b[0m\u001b[1;33m)\u001b[0m\u001b[1;33m)\u001b[0m\u001b[1;33m:\u001b[0m\u001b[1;33m\u001b[0m\u001b[1;33m\u001b[0m\u001b[0m\n\u001b[1;32m----> 6\u001b[1;33m         \u001b[1;32mif\u001b[0m \u001b[0mebayReport\u001b[0m\u001b[1;33m[\u001b[0m\u001b[1;34m'Item'\u001b[0m\u001b[1;33m]\u001b[0m\u001b[1;33m.\u001b[0m\u001b[0munique\u001b[0m\u001b[1;33m(\u001b[0m\u001b[1;33m)\u001b[0m\u001b[1;33m[\u001b[0m\u001b[0mi\u001b[0m\u001b[1;33m]\u001b[0m \u001b[1;33m==\u001b[0m \u001b[0mdatabaseLandingCosts\u001b[0m\u001b[1;33m[\u001b[0m\u001b[1;34m'Item'\u001b[0m\u001b[1;33m]\u001b[0m\u001b[1;33m[\u001b[0m\u001b[0mj\u001b[0m\u001b[1;33m]\u001b[0m\u001b[1;33m:\u001b[0m\u001b[1;33m\u001b[0m\u001b[1;33m\u001b[0m\u001b[0m\n\u001b[0m\u001b[0;32m      7\u001b[0m             \u001b[0mebayReport\u001b[0m\u001b[1;33m.\u001b[0m\u001b[0mloc\u001b[0m\u001b[1;33m[\u001b[0m\u001b[0mebayReport\u001b[0m\u001b[1;33m[\u001b[0m\u001b[1;34m'Item'\u001b[0m\u001b[1;33m]\u001b[0m\u001b[1;33m==\u001b[0m\u001b[0mebayReport\u001b[0m\u001b[1;33m[\u001b[0m\u001b[1;34m'Item'\u001b[0m\u001b[1;33m]\u001b[0m\u001b[1;33m.\u001b[0m\u001b[0munique\u001b[0m\u001b[1;33m(\u001b[0m\u001b[1;33m)\u001b[0m\u001b[1;33m[\u001b[0m\u001b[0mi\u001b[0m\u001b[1;33m]\u001b[0m\u001b[1;33m,\u001b[0m\u001b[1;34m'landing cost'\u001b[0m\u001b[1;33m]\u001b[0m \u001b[1;33m=\u001b[0m \u001b[0mdatabaseLandingCosts\u001b[0m\u001b[1;33m[\u001b[0m\u001b[1;34m'Cost'\u001b[0m\u001b[1;33m]\u001b[0m\u001b[1;33m[\u001b[0m\u001b[0mj\u001b[0m\u001b[1;33m]\u001b[0m\u001b[1;33m\u001b[0m\u001b[1;33m\u001b[0m\u001b[0m\n",
      "\u001b[1;32m~\\Anaconda3\\lib\\site-packages\\pandas\\core\\series.py\u001b[0m in \u001b[0;36munique\u001b[1;34m(self)\u001b[0m\n\u001b[0;32m   1665\u001b[0m         \u001b[0mCategories\u001b[0m \u001b[1;33m(\u001b[0m\u001b[1;36m3\u001b[0m\u001b[1;33m,\u001b[0m \u001b[0mobject\u001b[0m\u001b[1;33m)\u001b[0m\u001b[1;33m:\u001b[0m \u001b[1;33m[\u001b[0m\u001b[0ma\u001b[0m \u001b[1;33m<\u001b[0m \u001b[0mb\u001b[0m \u001b[1;33m<\u001b[0m \u001b[0mc\u001b[0m\u001b[1;33m]\u001b[0m\u001b[1;33m\u001b[0m\u001b[1;33m\u001b[0m\u001b[0m\n\u001b[0;32m   1666\u001b[0m         \"\"\"\n\u001b[1;32m-> 1667\u001b[1;33m         \u001b[0mresult\u001b[0m \u001b[1;33m=\u001b[0m \u001b[0msuper\u001b[0m\u001b[1;33m(\u001b[0m\u001b[0mSeries\u001b[0m\u001b[1;33m,\u001b[0m \u001b[0mself\u001b[0m\u001b[1;33m)\u001b[0m\u001b[1;33m.\u001b[0m\u001b[0munique\u001b[0m\u001b[1;33m(\u001b[0m\u001b[1;33m)\u001b[0m\u001b[1;33m\u001b[0m\u001b[1;33m\u001b[0m\u001b[0m\n\u001b[0m\u001b[0;32m   1668\u001b[0m         \u001b[1;32mreturn\u001b[0m \u001b[0mresult\u001b[0m\u001b[1;33m\u001b[0m\u001b[1;33m\u001b[0m\u001b[0m\n\u001b[0;32m   1669\u001b[0m \u001b[1;33m\u001b[0m\u001b[0m\n",
      "\u001b[1;32m~\\Anaconda3\\lib\\site-packages\\pandas\\core\\base.py\u001b[0m in \u001b[0;36munique\u001b[1;34m(self)\u001b[0m\n\u001b[0;32m   1312\u001b[0m         \u001b[1;32melse\u001b[0m\u001b[1;33m:\u001b[0m\u001b[1;33m\u001b[0m\u001b[1;33m\u001b[0m\u001b[0m\n\u001b[0;32m   1313\u001b[0m             \u001b[1;32mfrom\u001b[0m \u001b[0mpandas\u001b[0m\u001b[1;33m.\u001b[0m\u001b[0mcore\u001b[0m\u001b[1;33m.\u001b[0m\u001b[0malgorithms\u001b[0m \u001b[1;32mimport\u001b[0m \u001b[0munique1d\u001b[0m\u001b[1;33m\u001b[0m\u001b[1;33m\u001b[0m\u001b[0m\n\u001b[1;32m-> 1314\u001b[1;33m             \u001b[0mresult\u001b[0m \u001b[1;33m=\u001b[0m \u001b[0munique1d\u001b[0m\u001b[1;33m(\u001b[0m\u001b[0mvalues\u001b[0m\u001b[1;33m)\u001b[0m\u001b[1;33m\u001b[0m\u001b[1;33m\u001b[0m\u001b[0m\n\u001b[0m\u001b[0;32m   1315\u001b[0m \u001b[1;33m\u001b[0m\u001b[0m\n\u001b[0;32m   1316\u001b[0m         \u001b[1;32mreturn\u001b[0m \u001b[0mresult\u001b[0m\u001b[1;33m\u001b[0m\u001b[1;33m\u001b[0m\u001b[0m\n",
      "\u001b[1;32m~\\Anaconda3\\lib\\site-packages\\pandas\\core\\algorithms.py\u001b[0m in \u001b[0;36munique\u001b[1;34m(values)\u001b[0m\n\u001b[0;32m    360\u001b[0m \u001b[1;33m\u001b[0m\u001b[0m\n\u001b[0;32m    361\u001b[0m     \u001b[0mtable\u001b[0m \u001b[1;33m=\u001b[0m \u001b[0mhtable\u001b[0m\u001b[1;33m(\u001b[0m\u001b[0mlen\u001b[0m\u001b[1;33m(\u001b[0m\u001b[0mvalues\u001b[0m\u001b[1;33m)\u001b[0m\u001b[1;33m)\u001b[0m\u001b[1;33m\u001b[0m\u001b[1;33m\u001b[0m\u001b[0m\n\u001b[1;32m--> 362\u001b[1;33m     \u001b[0muniques\u001b[0m \u001b[1;33m=\u001b[0m \u001b[0mtable\u001b[0m\u001b[1;33m.\u001b[0m\u001b[0munique\u001b[0m\u001b[1;33m(\u001b[0m\u001b[0mvalues\u001b[0m\u001b[1;33m)\u001b[0m\u001b[1;33m\u001b[0m\u001b[1;33m\u001b[0m\u001b[0m\n\u001b[0m\u001b[0;32m    363\u001b[0m     \u001b[0muniques\u001b[0m \u001b[1;33m=\u001b[0m \u001b[0m_reconstruct_data\u001b[0m\u001b[1;33m(\u001b[0m\u001b[0muniques\u001b[0m\u001b[1;33m,\u001b[0m \u001b[0mdtype\u001b[0m\u001b[1;33m,\u001b[0m \u001b[0moriginal\u001b[0m\u001b[1;33m)\u001b[0m\u001b[1;33m\u001b[0m\u001b[1;33m\u001b[0m\u001b[0m\n\u001b[0;32m    364\u001b[0m     \u001b[1;32mreturn\u001b[0m \u001b[0muniques\u001b[0m\u001b[1;33m\u001b[0m\u001b[1;33m\u001b[0m\u001b[0m\n",
      "\u001b[1;31mKeyboardInterrupt\u001b[0m: "
     ]
    }
   ],
   "source": [
    "# Adding in the landing costs\n",
    "ebayReport['landing cost'] = '0'\n",
    "\n",
    "for i in range(0,len(ebayReport['Item'].unique())):\n",
    "    for j in range(0,len(databaseLandingCosts['Item'].unique())):\n",
    "        if ebayReport['Item'].unique()[i] == databaseLandingCosts['Item'][j]:\n",
    "            ebayReport.loc[ebayReport['Item']==ebayReport['Item'].unique()[i],'landing cost'] = databaseLandingCosts['Cost'][j]"
   ]
  },
  {
   "cell_type": "code",
   "execution_count": null,
   "metadata": {},
   "outputs": [],
   "source": [
    "# ebayReportNoSC = ebayReport.loc[ebayReport['Item'] != 'Shipping Charge']\n",
    "ebayReport.dtypes\n",
    "ebayReport['landing cost'] = pd.to_numeric(ebayReport['landing cost'])"
   ]
  },
  {
   "cell_type": "code",
   "execution_count": null,
   "metadata": {},
   "outputs": [],
   "source": [
    "#ebayReport = ebayReport.reset_index()\n",
    "ebayReport = ebayReport.drop(columns = {'index'})\n",
    "ebayReport.head()"
   ]
  },
  {
   "cell_type": "code",
   "execution_count": null,
   "metadata": {},
   "outputs": [],
   "source": [
    "# In this cell i am adjusting the landing costs with respect to the amount of quantity bought from that record\n",
    "for i in range(0,len(ebayReport['Item'])):\n",
    "    ebayReport['landing cost'][i] = ebayReport['landing cost'][i]*ebayReport['Qty'][i]\n",
    "    #print(ebayReport['landing cost'][i])\n",
    "ebayReport"
   ]
  },
  {
   "cell_type": "code",
   "execution_count": null,
   "metadata": {},
   "outputs": [],
   "source": [
    "ebayReport.to_csv(r\"ebayPreAggReport.csv\")"
   ]
  },
  {
   "cell_type": "code",
   "execution_count": null,
   "metadata": {},
   "outputs": [],
   "source": [
    "ebayReport = pd.read_csv(\"ebayPreAggReport.csv\")"
   ]
  },
  {
   "cell_type": "code",
   "execution_count": null,
   "metadata": {},
   "outputs": [],
   "source": [
    "ebayReport=ebayReport.drop(columns = {\"Unnamed: 0\"})"
   ]
  },
  {
   "cell_type": "code",
   "execution_count": null,
   "metadata": {},
   "outputs": [],
   "source": [
    "ebayReport = ebayReport.drop(columns = {'Type'})"
   ]
  },
  {
   "cell_type": "code",
   "execution_count": null,
   "metadata": {},
   "outputs": [],
   "source": [
    "ebayReport"
   ]
  },
  {
   "cell_type": "code",
   "execution_count": null,
   "metadata": {},
   "outputs": [],
   "source": []
  }
 ],
 "metadata": {
  "kernelspec": {
   "display_name": "Python 3",
   "language": "python",
   "name": "python3"
  },
  "language_info": {
   "codemirror_mode": {
    "name": "ipython",
    "version": 3
   },
   "file_extension": ".py",
   "mimetype": "text/x-python",
   "name": "python",
   "nbconvert_exporter": "python",
   "pygments_lexer": "ipython3",
   "version": "3.7.3"
  }
 },
 "nbformat": 4,
 "nbformat_minor": 2
}

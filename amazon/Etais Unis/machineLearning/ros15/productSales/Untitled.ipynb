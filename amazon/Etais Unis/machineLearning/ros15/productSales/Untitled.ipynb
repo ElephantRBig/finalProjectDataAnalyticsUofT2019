{
 "cells": [
  {
   "cell_type": "code",
   "execution_count": 1,
   "metadata": {},
   "outputs": [],
   "source": [
    "import pandas as pd\n",
    "\n",
    "t = pd.read_csv(r'y_productSalesedit1.csv')\n",
    "\n",
    "list = [\n",
    "\"MDL-NON80328\",\n",
    "\"3MM-R1547(10)\",\n",
    "\"3MM-6165\",\n",
    "\"3MM-6166\",\n",
    "\"3MM-2560(X2)\",\n",
    "\"3MM-6152\",\n",
    "\"CON-22771\",\n",
    "\"3MM-1624W(B)\",\n",
    "\"3MM-2161\",\n",
    "\"3MM-1626W(10)\",\n",
    "\"WEL-52432-U\",\n",
    "\"KEL-GEL60GM\",\n",
    "\"MOL-281000\"\n",
    "]\n",
    "\n",
    "# t = t.set_index('sku')\n",
    "t\n",
    "for i in list:\n",
    "     t = t.drop(i)\n",
    "\n",
    "t= t.reset_index()\n",
    "\n",
    "t\n",
    "\n",
    "t.to_csv(r'y_productSalesedit1.csv')"
   ]
  },
  {
   "cell_type": "code",
   "execution_count": null,
   "metadata": {},
   "outputs": [],
   "source": []
  }
 ],
 "metadata": {
  "kernelspec": {
   "display_name": "Python 3",
   "language": "python",
   "name": "python3"
  },
  "language_info": {
   "codemirror_mode": {
    "name": "ipython",
    "version": 3
   },
   "file_extension": ".py",
   "mimetype": "text/x-python",
   "name": "python",
   "nbconvert_exporter": "python",
   "pygments_lexer": "ipython3",
   "version": "3.7.3"
  }
 },
 "nbformat": 4,
 "nbformat_minor": 2
}

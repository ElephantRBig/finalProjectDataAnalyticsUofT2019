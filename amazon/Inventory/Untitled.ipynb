{
 "cells": [
  {
   "cell_type": "code",
   "execution_count": 1,
   "metadata": {},
   "outputs": [],
   "source": [
    "import pandas as pd "
   ]
  },
  {
   "cell_type": "code",
   "execution_count": 16,
   "metadata": {},
   "outputs": [],
   "source": [
    "dataset = pd.read_csv(r\"inventoryNov11.csv\",encoding = \"ISO-8859-1\")"
   ]
  },
  {
   "cell_type": "code",
   "execution_count": 23,
   "metadata": {},
   "outputs": [
    {
     "data": {
      "text/html": [
       "<div>\n",
       "<style scoped>\n",
       "    .dataframe tbody tr th:only-of-type {\n",
       "        vertical-align: middle;\n",
       "    }\n",
       "\n",
       "    .dataframe tbody tr th {\n",
       "        vertical-align: top;\n",
       "    }\n",
       "\n",
       "    .dataframe thead th {\n",
       "        text-align: right;\n",
       "    }\n",
       "</style>\n",
       "<table border=\"1\" class=\"dataframe\">\n",
       "  <thead>\n",
       "    <tr style=\"text-align: right;\">\n",
       "      <th></th>\n",
       "      <th>snapshot-date</th>\n",
       "      <th>sku</th>\n",
       "      <th>product-name</th>\n",
       "      <th>quantity</th>\n",
       "      <th>fulfillment-center-id</th>\n",
       "      <th>detailed-disposition</th>\n",
       "      <th>country</th>\n",
       "      <th>state</th>\n",
       "      <th>location</th>\n",
       "    </tr>\n",
       "  </thead>\n",
       "  <tbody>\n",
       "    <tr>\n",
       "      <th>0</th>\n",
       "      <td>2019-01-01</td>\n",
       "      <td>SOT-160214</td>\n",
       "      <td>Sothys - Multi-Action Eye Contour, 0.50 Fl Oz</td>\n",
       "      <td>1</td>\n",
       "      <td>DEN3</td>\n",
       "      <td>SELLABLE</td>\n",
       "      <td>US</td>\n",
       "      <td>Colorado</td>\n",
       "      <td>Thornton</td>\n",
       "    </tr>\n",
       "    <tr>\n",
       "      <th>1</th>\n",
       "      <td>2019-01-01</td>\n",
       "      <td>LUX-NEO120B</td>\n",
       "      <td>Luxe Bidet Neo 120 - Self Cleaning Nozzle - Fr...</td>\n",
       "      <td>8</td>\n",
       "      <td>YYC1</td>\n",
       "      <td>SELLABLE</td>\n",
       "      <td>CA</td>\n",
       "      <td>Alberta</td>\n",
       "      <td>Rocky View County</td>\n",
       "    </tr>\n",
       "    <tr>\n",
       "      <th>2</th>\n",
       "      <td>2019-01-01</td>\n",
       "      <td>MOL-295300</td>\n",
       "      <td>Mepilex Border Self-Adhesive Foam Dressings 4\"...</td>\n",
       "      <td>17</td>\n",
       "      <td>CLE2</td>\n",
       "      <td>SELLABLE</td>\n",
       "      <td>US</td>\n",
       "      <td>Ohio</td>\n",
       "      <td>North Randall</td>\n",
       "    </tr>\n",
       "    <tr>\n",
       "      <th>3</th>\n",
       "      <td>2019-01-01</td>\n",
       "      <td>CON-187660</td>\n",
       "      <td>DUODERM CGF 187660 BX/5 4X4 EACH</td>\n",
       "      <td>7</td>\n",
       "      <td>XFR</td>\n",
       "      <td>SELLABLE</td>\n",
       "      <td>NaN</td>\n",
       "      <td>Transfer</td>\n",
       "      <td>Tranfer</td>\n",
       "    </tr>\n",
       "    <tr>\n",
       "      <th>4</th>\n",
       "      <td>2019-01-01</td>\n",
       "      <td>SOT-140172</td>\n",
       "      <td>Sothys Hydra3Ha Hydrating Cream - 1.69 oz</td>\n",
       "      <td>1</td>\n",
       "      <td>ONT2</td>\n",
       "      <td>SELLABLE</td>\n",
       "      <td>US</td>\n",
       "      <td>California</td>\n",
       "      <td>San Bernardino</td>\n",
       "    </tr>\n",
       "  </tbody>\n",
       "</table>\n",
       "</div>"
      ],
      "text/plain": [
       "  snapshot-date          sku  \\\n",
       "0    2019-01-01   SOT-160214   \n",
       "1    2019-01-01  LUX-NEO120B   \n",
       "2    2019-01-01   MOL-295300   \n",
       "3    2019-01-01   CON-187660   \n",
       "4    2019-01-01   SOT-140172   \n",
       "\n",
       "                                        product-name  quantity  \\\n",
       "0      Sothys - Multi-Action Eye Contour, 0.50 Fl Oz         1   \n",
       "1  Luxe Bidet Neo 120 - Self Cleaning Nozzle - Fr...         8   \n",
       "2  Mepilex Border Self-Adhesive Foam Dressings 4\"...        17   \n",
       "3                   DUODERM CGF 187660 BX/5 4X4 EACH         7   \n",
       "4          Sothys Hydra3Ha Hydrating Cream - 1.69 oz         1   \n",
       "\n",
       "  fulfillment-center-id detailed-disposition country       state  \\\n",
       "0                  DEN3             SELLABLE      US    Colorado   \n",
       "1                  YYC1             SELLABLE      CA     Alberta   \n",
       "2                  CLE2             SELLABLE      US        Ohio   \n",
       "3                   XFR             SELLABLE     NaN    Transfer   \n",
       "4                  ONT2             SELLABLE      US  California   \n",
       "\n",
       "             location  \n",
       "0           Thornton   \n",
       "1  Rocky View County   \n",
       "2       North Randall  \n",
       "3             Tranfer  \n",
       "4     San Bernardino   "
      ]
     },
     "execution_count": 23,
     "metadata": {},
     "output_type": "execute_result"
    }
   ],
   "source": [
    "dataset.head()"
   ]
  },
  {
   "cell_type": "code",
   "execution_count": 25,
   "metadata": {},
   "outputs": [
    {
     "name": "stderr",
     "output_type": "stream",
     "text": [
      "C:\\Users\\carlo\\Anaconda3\\lib\\site-packages\\ipykernel_launcher.py:4: SettingWithCopyWarning: \n",
      "A value is trying to be set on a copy of a slice from a DataFrame\n",
      "\n",
      "See the caveats in the documentation: http://pandas.pydata.org/pandas-docs/stable/indexing.html#indexing-view-versus-copy\n",
      "  after removing the cwd from sys.path.\n"
     ]
    }
   ],
   "source": [
    "# Inserting an extra 'M' into all skus which have the first 3 characters '3M-...'\n",
    "for i in range(0,len(dataset['sku'])):\n",
    "    if dataset['sku'][i][0:3] == '3M-':\n",
    "        dataset['sku'][i] = dataset['sku'][i][0:2]+'M'+dataset['sku'][i][2:len(dataset['sku'][i])]"
   ]
  },
  {
   "cell_type": "code",
   "execution_count": null,
   "metadata": {},
   "outputs": [],
   "source": [
    "Given on the quantity in store that day, and the location of the state, will there be a purchase there?"
   ]
  }
 ],
 "metadata": {
  "kernelspec": {
   "display_name": "Python 3",
   "language": "python",
   "name": "python3"
  },
  "language_info": {
   "codemirror_mode": {
    "name": "ipython",
    "version": 3
   },
   "file_extension": ".py",
   "mimetype": "text/x-python",
   "name": "python",
   "nbconvert_exporter": "python",
   "pygments_lexer": "ipython3",
   "version": "3.7.3"
  }
 },
 "nbformat": 4,
 "nbformat_minor": 2
}

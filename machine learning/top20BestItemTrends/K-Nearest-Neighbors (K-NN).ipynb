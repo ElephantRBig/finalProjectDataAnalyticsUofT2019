{
 "cells": [
  {
   "cell_type": "code",
   "execution_count": 1,
   "metadata": {},
   "outputs": [],
   "source": [
    "# Importing the libraries\n",
    "import numpy as np\n",
    "import matplotlib.pyplot as plt\n",
    "import pandas as pd"
   ]
  },
  {
   "cell_type": "code",
   "execution_count": 2,
   "metadata": {},
   "outputs": [
    {
     "data": {
      "text/plain": [
       "array([[ 297, 3217],\n",
       "       [ 493, 6074],\n",
       "       [  36,  704],\n",
       "       [  90, 1648],\n",
       "       [ 147, 2453],\n",
       "       [ 109, 2234],\n",
       "       [ 269, 3993],\n",
       "       [  45,  802],\n",
       "       [  12,  311],\n",
       "       [  40,  881],\n",
       "       [ 202, 3087],\n",
       "       [ 183,  897],\n",
       "       [ 921, 5441],\n",
       "       [ 376, 6607],\n",
       "       [ 505, 9210],\n",
       "       [  82, 1435],\n",
       "       [  45, 1488],\n",
       "       [  18,  655],\n",
       "       [  73, 2341],\n",
       "       [ 133, 4303],\n",
       "       [ 157, 1624],\n",
       "       [  33,  630],\n",
       "       [  39, 3086],\n",
       "       [  58, 4501],\n",
       "       [  30, 2510],\n",
       "       [   9,  702],\n",
       "       [  30, 5197],\n",
       "       [  31, 6522],\n",
       "       [ 480, 3692],\n",
       "       [ 380, 5240],\n",
       "       [ 184, 1402],\n",
       "       [  95,  851],\n",
       "       [ 117, 1263],\n",
       "       [ 249, 2589],\n",
       "       [   5,   87],\n",
       "       [  60,  621],\n",
       "       [  12,  149],\n",
       "       [ 180, 2067],\n",
       "       [ 140, 3807],\n",
       "       [  30, 4915],\n",
       "       [  59, 9151],\n",
       "       [  28, 4575],\n",
       "       [  60, 9094],\n",
       "       [  30, 4909],\n",
       "       [1000, 5783],\n",
       "       [ 100,  915],\n",
       "       [   4,  119],\n",
       "       [   8,  264],\n",
       "       [   4,  212],\n",
       "       [ 108,  578],\n",
       "       [ 119,  597],\n",
       "       [ 490, 2644],\n",
       "       [ 459, 2784],\n",
       "       [ 159,  858],\n",
       "       [ 100,  532],\n",
       "       [ 101,  766],\n",
       "       [ 239, 1630],\n",
       "       [  28,  131],\n",
       "       [ 360, 1940],\n",
       "       [  80, 2016],\n",
       "       [ 334, 7756],\n",
       "       [ 236, 6136],\n",
       "       [ 116, 2851],\n",
       "       [  72, 1847],\n",
       "       [  60,  353],\n",
       "       [ 150, 1790],\n",
       "       [ 104, 2448],\n",
       "       [  48,  946],\n",
       "       [  48, 1750],\n",
       "       [  96, 1087],\n",
       "       [  85, 1613],\n",
       "       [ 261, 4802],\n",
       "       [ 100, 1880],\n",
       "       [  23,  896],\n",
       "       [ 153, 3309],\n",
       "       [  95, 1873],\n",
       "       [  21,  541],\n",
       "       [  21,  808],\n",
       "       [  30, 1334],\n",
       "       [ 151, 1848],\n",
       "       [ 180, 5109],\n",
       "       [  30,  414],\n",
       "       [  60, 1641],\n",
       "       [  31,  400],\n",
       "       [  29,  365],\n",
       "       [   1,   70],\n",
       "       [  60, 1654],\n",
       "       [   1,   49],\n",
       "       [ 506, 5475],\n",
       "       [  13,  167],\n",
       "       [  64, 1751],\n",
       "       [ 139, 3025],\n",
       "       [  10,  242],\n",
       "       [  60,  891],\n",
       "       [  60,  866],\n",
       "       [  18,  516],\n",
       "       [  10,  373],\n",
       "       [  10,  378],\n",
       "       [   2,   47],\n",
       "       [   2,   51],\n",
       "       [ 404, 8536],\n",
       "       [  52, 2333],\n",
       "       [  81, 1599],\n",
       "       [  47,  314],\n",
       "       [  73,  702],\n",
       "       [  16,  392],\n",
       "       [  49,  550],\n",
       "       [ 346, 8120],\n",
       "       [  18,  900],\n",
       "       [   1,   20],\n",
       "       [  34,  318],\n",
       "       [ 124, 2725],\n",
       "       [   6,  352],\n",
       "       [   1,    6],\n",
       "       [ 100, 2238],\n",
       "       [ 103,  962],\n",
       "       [  31,  820],\n",
       "       [  36,  311],\n",
       "       [ 214, 3927],\n",
       "       [ 168, 3410],\n",
       "       [ 282, 4941],\n",
       "       [ 121, 2562],\n",
       "       [   2,   40],\n",
       "       [  32,  644],\n",
       "       [  32,  682],\n",
       "       [ 102, 1586],\n",
       "       [ 133, 2589],\n",
       "       [  27,  537],\n",
       "       [  97, 2013],\n",
       "       [   5,   70],\n",
       "       [   2,   22],\n",
       "       [ 113, 1567],\n",
       "       [  59, 1239],\n",
       "       [ 305, 3965],\n",
       "       [ 254, 4583],\n",
       "       [ 200, 5573],\n",
       "       [ 104, 4326],\n",
       "       [   3,   81],\n",
       "       [   5, 3468],\n",
       "       [1001, 3998],\n",
       "       [ 365, 1994],\n",
       "       [  30,  428],\n",
       "       [ 150, 3075],\n",
       "       [  40,  326],\n",
       "       [  31,  369],\n",
       "       [  19,  331],\n",
       "       [  38,  772],\n",
       "       [  25,  498],\n",
       "       [  68, 1413],\n",
       "       [  60, 1881],\n",
       "       [  19,  650],\n",
       "       [  48, 1698],\n",
       "       [   1,   36],\n",
       "       [   1,   37],\n",
       "       [  40, 1798],\n",
       "       [ 152, 5145],\n",
       "       [  10,  190],\n",
       "       [ 183, 3228],\n",
       "       [ 122, 3458],\n",
       "       [  58, 5032],\n",
       "       [  75, 1033],\n",
       "       [ 104, 1222],\n",
       "       [ 103, 3497],\n",
       "       [ 740, 8421],\n",
       "       [   3,   59],\n",
       "       [  16, 3741],\n",
       "       [ 701, 8193],\n",
       "       [   1,  239],\n",
       "       [ 497, 3526],\n",
       "       [   7,  578],\n",
       "       [  74,  681],\n",
       "       [  59, 1978],\n",
       "       [ 147, 1064],\n",
       "       [  63, 2130],\n",
       "       [   2,   11],\n",
       "       [ 138, 4863],\n",
       "       [  25, 8490]], dtype=int64)"
      ]
     },
     "execution_count": 2,
     "metadata": {},
     "output_type": "execute_result"
    }
   ],
   "source": [
    "# Importing Data\n",
    "dataset1 = pd.read_csv(r'y_productSalesedit1.csv')\n",
    "dataset1.dtypes\n",
    "dataset1['Total-Quantity-Sold'] = dataset1['Total-Quantity-Sold'].astype(np.int64)\n",
    "dataset1['Total-Product-Revenue'] = dataset1['Total-Product-Revenue'].astype(np.int64)\n",
    "dataset1['Return on Sales'] = dataset1['Return on Sales'].astype(np.int64)\n",
    "X = dataset1.iloc[:,[1,2]].values\n",
    "y = dataset1.iloc[:,4].values\n",
    "len(X)\n",
    "len(y)\n",
    "X"
   ]
  },
  {
   "cell_type": "code",
   "execution_count": 3,
   "metadata": {},
   "outputs": [],
   "source": [
    "# Splitting the dataset into the Training set and Test set\n",
    "from sklearn.model_selection import train_test_split\n",
    "X_train, X_test, y_train, y_test = train_test_split(X, y, test_size = 0.25, random_state = 42)"
   ]
  },
  {
   "cell_type": "code",
   "execution_count": 4,
   "metadata": {},
   "outputs": [
    {
     "name": "stderr",
     "output_type": "stream",
     "text": [
      "C:\\Users\\carlo\\Anaconda3\\lib\\site-packages\\sklearn\\utils\\validation.py:595: DataConversionWarning: Data with input dtype int64 was converted to float64 by StandardScaler.\n",
      "  warnings.warn(msg, DataConversionWarning)\n",
      "C:\\Users\\carlo\\Anaconda3\\lib\\site-packages\\sklearn\\utils\\validation.py:595: DataConversionWarning: Data with input dtype int64 was converted to float64 by StandardScaler.\n",
      "  warnings.warn(msg, DataConversionWarning)\n",
      "C:\\Users\\carlo\\Anaconda3\\lib\\site-packages\\sklearn\\utils\\validation.py:595: DataConversionWarning: Data with input dtype int64 was converted to float64 by StandardScaler.\n",
      "  warnings.warn(msg, DataConversionWarning)\n"
     ]
    }
   ],
   "source": [
    "# Feature Scaling\n",
    "from sklearn.preprocessing import StandardScaler\n",
    "sc = StandardScaler()\n",
    "X_train = sc.fit_transform(X_train)\n",
    "X_test = sc.transform(X_test)"
   ]
  },
  {
   "cell_type": "code",
   "execution_count": 5,
   "metadata": {},
   "outputs": [
    {
     "data": {
      "text/plain": [
       "KNeighborsClassifier(algorithm='auto', leaf_size=30, metric='minkowski',\n",
       "           metric_params=None, n_jobs=None, n_neighbors=5, p=2,\n",
       "           weights='uniform')"
      ]
     },
     "execution_count": 5,
     "metadata": {},
     "output_type": "execute_result"
    }
   ],
   "source": [
    "# Fitting classifier to the Training set\n",
    "from sklearn.neighbors import KNeighborsClassifier\n",
    "classifier = KNeighborsClassifier(n_neighbors = 5, metric = 'minkowski', p =2) # 1st Parameter: n_neighbors: number of neighbors to use; default = 5\n",
    "classifier.fit(X_train, y_train)      "
   ]
  },
  {
   "cell_type": "code",
   "execution_count": 6,
   "metadata": {},
   "outputs": [
    {
     "name": "stdout",
     "output_type": "stream",
     "text": [
      "[0 0 0 0 0 0 0 0 0 0 1 0 1 0 0 0 0 0 0 0 0 0 0 0 0 0 0 0 0 0 0 0 0 0 0 0 0\n",
      " 0 0 0 0 1 1 0 0]\n",
      "[0 0 0 0 0 0 0 0 0 0 0 0 1 0 0 0 0 0 0 0 0 0 0 0 0 0 0 0 0 0 0 0 0 0 0 1 0\n",
      " 0 0 0 0 0 0 0 0]\n"
     ]
    }
   ],
   "source": [
    "# Predicting the Test set results\n",
    "y_pred = classifier.predict(X_test)\n",
    "print(y_test)\n",
    "print(y_pred)"
   ]
  },
  {
   "cell_type": "code",
   "execution_count": 7,
   "metadata": {},
   "outputs": [
    {
     "data": {
      "text/plain": [
       "array([[40,  1],\n",
       "       [ 3,  1]], dtype=int64)"
      ]
     },
     "execution_count": 7,
     "metadata": {},
     "output_type": "execute_result"
    }
   ],
   "source": [
    "# Making the Confusion Matrix\n",
    "from sklearn.metrics import confusion_matrix\n",
    "cm = confusion_matrix(y_test, y_pred)\n",
    "cm"
   ]
  },
  {
   "cell_type": "code",
   "execution_count": 8,
   "metadata": {},
   "outputs": [
    {
     "name": "stderr",
     "output_type": "stream",
     "text": [
      "'c' argument looks like a single numeric RGB or RGBA sequence, which should be avoided as value-mapping will have precedence in case its length matches with 'x' & 'y'.  Please use a 2-D array with a single row if you really want to specify the same RGB or RGBA value for all points.\n",
      "'c' argument looks like a single numeric RGB or RGBA sequence, which should be avoided as value-mapping will have precedence in case its length matches with 'x' & 'y'.  Please use a 2-D array with a single row if you really want to specify the same RGB or RGBA value for all points.\n"
     ]
    },
    {
     "data": {
      "image/png": "[encoded data removed]",
      "text/plain": [
       "<Figure size 432x288 with 1 Axes>"
      ]
     },
     "metadata": {
      "needs_background": "light"
     },
     "output_type": "display_data"
    }
   ],
   "source": [
    "# Visualising the Training set results\n",
    "from matplotlib.colors import ListedColormap\n",
    "X_set, y_set = X_train, y_train\n",
    "X1, X2 = np.meshgrid(np.arange(start = X_set[:, 0].min() - 1, stop = X_set[:, 0].max() + 1, step = 0.01),\n",
    "                     np.arange(start = X_set[:, 1].min() - 1, stop = X_set[:, 1].max() + 1, step = 0.01))\n",
    "plt.contourf(X1, X2, classifier.predict(np.array([X1.ravel(), X2.ravel()]).T).reshape(X1.shape),\n",
    "             alpha = 0.75, cmap = ListedColormap(('red', 'green')))\n",
    "plt.xlim(X1.min(), X1.max())\n",
    "plt.ylim(X2.min(), X2.max())\n",
    "for i, j in enumerate(np.unique(y_set)):\n",
    "    plt.scatter(X_set[y_set == j, 0], X_set[y_set == j, 1],\n",
    "                c = ListedColormap(('red', 'green'))(i), label = j)\n",
    "plt.title('K-NN (Training set)')\n",
    "plt.xlabel('qty')\n",
    "plt.ylabel('revenue')\n",
    "plt.legend()\n",
    "plt.show()"
   ]
  },
  {
   "cell_type": "code",
   "execution_count": 9,
   "metadata": {},
   "outputs": [
    {
     "name": "stderr",
     "output_type": "stream",
     "text": [
      "'c' argument looks like a single numeric RGB or RGBA sequence, which should be avoided as value-mapping will have precedence in case its length matches with 'x' & 'y'.  Please use a 2-D array with a single row if you really want to specify the same RGB or RGBA value for all points.\n"
     ]
    },
    {
     "data": {
      "image/png": "[encoded data removed]",
      "text/plain": [
       "<Figure size 432x288 with 1 Axes>"
      ]
     },
     "metadata": {
      "needs_background": "light"
     },
     "output_type": "display_data"
    }
   ],
   "source": [
    "# Visualising the Test set results\n",
    "from matplotlib.colors import ListedColormap\n",
    "X_set, y_set = X_test, y_test\n",
    "X1, X2 = np.meshgrid(np.arange(start = X_set[:, 0].min() - 1, stop = X_set[:, 0].max() + 1, step = 0.01),\n",
    "                     np.arange(start = X_set[:, 1].min() - 1, stop = X_set[:, 1].max() + 1, step = 0.01))\n",
    "plt.contourf(X1, X2, classifier.predict(np.array([X1.ravel(), X2.ravel()]).T).reshape(X1.shape),\n",
    "             alpha = 0.75, cmap = ListedColormap(('red', 'green')))\n",
    "plt.xlim(X1.min(), X1.max())\n",
    "plt.ylim(X2.min(), X2.max())\n",
    "for i, j in enumerate(np.unique(y_set)):\n",
    "    plt.scatter(X_set[y_set == j, 0], X_set[y_set == j, 1],\n",
    "                c = ListedColormap(('red', 'green'))(i), label = j)\n",
    "plt.title('K-NN (Test set)')\n",
    "plt.xlabel('qty')\n",
    "plt.ylabel('revenue')\n",
    "plt.legend()\n",
    "plt.show()"
   ]
  },
  {
   "cell_type": "code",
   "execution_count": null,
   "metadata": {},
   "outputs": [],
   "source": []
  }
 ],
 "metadata": {
  "kernelspec": {
   "display_name": "Python 3",
   "language": "python",
   "name": "python3"
  },
  "language_info": {
   "codemirror_mode": {
    "name": "ipython",
    "version": 3
   },
   "file_extension": ".py",
   "mimetype": "text/x-python",
   "name": "python",
   "nbconvert_exporter": "python",
   "pygments_lexer": "ipython3",
   "version": "3.7.3"
  }
 },
 "nbformat": 4,
 "nbformat_minor": 2
}

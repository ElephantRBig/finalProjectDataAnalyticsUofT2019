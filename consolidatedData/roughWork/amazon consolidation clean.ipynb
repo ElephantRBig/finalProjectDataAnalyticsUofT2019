{
 "cells": [
  {
   "cell_type": "code",
   "execution_count": 1,
   "metadata": {},
   "outputs": [],
   "source": [
    "import pandas as pd\n",
    "import numpy as np"
   ]
  },
  {
   "cell_type": "code",
   "execution_count": 2,
   "metadata": {},
   "outputs": [],
   "source": [
    "can = pd.read_csv(r\"CanordersConsolidate.csv\")\n",
    "us = pd.read_csv(r\"USordersConsolidate.csv\")\n",
    "state = pd.read_csv(r\"provincestate.csv\")"
   ]
  },
  {
   "cell_type": "code",
   "execution_count": null,
   "metadata": {},
   "outputs": [],
   "source": [
    "can.head(1)"
   ]
  },
  {
   "cell_type": "code",
   "execution_count": null,
   "metadata": {},
   "outputs": [],
   "source": [
    "state.head(1)"
   ]
  },
  {
   "cell_type": "code",
   "execution_count": null,
   "metadata": {},
   "outputs": [],
   "source": [
    "us.head(1)"
   ]
  },
  {
   "cell_type": "markdown",
   "metadata": {},
   "source": [
    "# American "
   ]
  },
  {
   "cell_type": "code",
   "execution_count": null,
   "metadata": {},
   "outputs": [],
   "source": [
    "state['State'] = state['State'].str.lower()\n",
    "us['order state'] = us['order state'].str.lower()"
   ]
  },
  {
   "cell_type": "code",
   "execution_count": null,
   "metadata": {},
   "outputs": [],
   "source": [
    "# for i in range(0,len(orders['order state'].unique()):\n",
    "list = []\n",
    "for i in range(0,len(us['order state'].unique())):\n",
    "    if len(str(us['order state'].unique()[i])) > 3:\n",
    "        list.append(us['order state'].unique()[i])"
   ]
  },
  {
   "cell_type": "code",
   "execution_count": null,
   "metadata": {},
   "outputs": [],
   "source": [
    "for i in range(0,len(list)):\n",
    "    for j in range(0,len(state['State'])):\n",
    "        if list[i] == state['State'][j]:\n",
    "            us.loc[us['order state']==list[i], 'order state'] = state['Code'][j]"
   ]
  },
  {
   "cell_type": "code",
   "execution_count": null,
   "metadata": {},
   "outputs": [],
   "source": [
    "us['order state'] = us['order state'].str.upper()"
   ]
  },
  {
   "cell_type": "code",
   "execution_count": null,
   "metadata": {},
   "outputs": [],
   "source": [
    "us.to_csv(r\"usOrdersConsolidateReady.csv\")"
   ]
  },
  {
   "cell_type": "markdown",
   "metadata": {},
   "source": [
    "continued"
   ]
  },
  {
   "cell_type": "code",
   "execution_count": 23,
   "metadata": {},
   "outputs": [],
   "source": [
    "us = pd.read_csv(r'usAmazonOrdersConsolidateReady.csv')"
   ]
  },
  {
   "cell_type": "code",
   "execution_count": 28,
   "metadata": {},
   "outputs": [
    {
     "data": {
      "text/html": [
       "<div>\n",
       "<style scoped>\n",
       "    .dataframe tbody tr th:only-of-type {\n",
       "        vertical-align: middle;\n",
       "    }\n",
       "\n",
       "    .dataframe tbody tr th {\n",
       "        vertical-align: top;\n",
       "    }\n",
       "\n",
       "    .dataframe thead th {\n",
       "        text-align: right;\n",
       "    }\n",
       "</style>\n",
       "<table border=\"1\" class=\"dataframe\">\n",
       "  <thead>\n",
       "    <tr style=\"text-align: right;\">\n",
       "      <th></th>\n",
       "      <th>Country</th>\n",
       "      <th>State</th>\n",
       "      <th>Code</th>\n",
       "    </tr>\n",
       "  </thead>\n",
       "  <tbody>\n",
       "    <tr>\n",
       "      <th>0</th>\n",
       "      <td>USA</td>\n",
       "      <td>alabama</td>\n",
       "      <td>AL</td>\n",
       "    </tr>\n",
       "  </tbody>\n",
       "</table>\n",
       "</div>"
      ],
      "text/plain": [
       "  Country    State Code\n",
       "0     USA  alabama   AL"
      ]
     },
     "execution_count": 28,
     "metadata": {},
     "output_type": "execute_result"
    }
   ],
   "source": [
    "state.head(1)"
   ]
  },
  {
   "cell_type": "code",
   "execution_count": 30,
   "metadata": {},
   "outputs": [],
   "source": [
    "# us\n",
    "for i in us['order state'].unique():\n",
    "    for j in range(0,len(state['Code'])):\n",
    "        if i == state['Code'][j]:\n",
    "            us.loc[us['order state']==i,'country'] = state['Country'][j]"
   ]
  },
  {
   "cell_type": "code",
   "execution_count": 37,
   "metadata": {},
   "outputs": [],
   "source": [
    "us = us.dropna()"
   ]
  },
  {
   "cell_type": "code",
   "execution_count": 40,
   "metadata": {},
   "outputs": [],
   "source": [
    "us.to_csv(r'usAmazonConsolidatedReady1.csv')"
   ]
  },
  {
   "cell_type": "code",
   "execution_count": null,
   "metadata": {},
   "outputs": [],
   "source": []
  },
  {
   "cell_type": "markdown",
   "metadata": {},
   "source": [
    "# Canadian Version "
   ]
  },
  {
   "cell_type": "code",
   "execution_count": 3,
   "metadata": {},
   "outputs": [],
   "source": [
    "can = can.drop(columns = {'group-sku'})"
   ]
  },
  {
   "cell_type": "code",
   "execution_count": 4,
   "metadata": {},
   "outputs": [],
   "source": [
    "state['State'] = state['State'].str.lower()\n",
    "us['order state'] = us['order state'].str.lower()\n",
    "can['order state'] = can['order state'].str.lower()"
   ]
  },
  {
   "cell_type": "code",
   "execution_count": 5,
   "metadata": {},
   "outputs": [
    {
     "data": {
      "text/plain": [
       "array(['ontario', 'quebec', 'northwest territories', 'alberta',\n",
       "       'nova scotia', 'on', 'prince edward island', 'british columbia',\n",
       "       'québec', 'sk', 'bc', 'ab', 'manitoba', 'qc', 'mb', 'ns',\n",
       "       'saskatchewan', 'nl', 'newfoundland', 'new brunswick',\n",
       "       'nouveau-brunswick', 'pe', 'nb', nan, 'yt', 'yukon', 'b.c.', 'nt',\n",
       "       'nunavut'], dtype=object)"
      ]
     },
     "execution_count": 5,
     "metadata": {},
     "output_type": "execute_result"
    }
   ],
   "source": [
    "can['order state'].unique()"
   ]
  },
  {
   "cell_type": "code",
   "execution_count": 6,
   "metadata": {},
   "outputs": [
    {
     "data": {
      "text/plain": [
       "date                                                    2019-01-02\n",
       "type                                                         Order\n",
       "order id                                       701-3826782-7408219\n",
       "sku                                                     OMR-BP742N\n",
       "description      Omron BP742N 5 Series Upper Arm Blood Pressure...\n",
       "quantity                                                         1\n",
       "order city                                                Montreal\n",
       "order state                                                 québec\n",
       "order postal                                                H2A2K6\n",
       "product sales                                                 67.9\n",
       "selling fees                                                 10.19\n",
       "fba fees                                                      6.11\n",
       "landing cost                                                 29.15\n",
       "Name: 27, dtype: object"
      ]
     },
     "execution_count": 6,
     "metadata": {},
     "output_type": "execute_result"
    }
   ],
   "source": [
    "can.iloc[27]"
   ]
  },
  {
   "cell_type": "code",
   "execution_count": 7,
   "metadata": {},
   "outputs": [],
   "source": [
    "# for i in range(0,len(orders['order state'].unique()):\n",
    "list = []\n",
    "for i in range(0,len(can['order state'].unique())):\n",
    "    if len(str(can['order state'].unique()[i])) > 3:\n",
    "        list.append(can['order state'].unique()[i])"
   ]
  },
  {
   "cell_type": "code",
   "execution_count": 8,
   "metadata": {},
   "outputs": [],
   "source": [
    "for i in range(0,len(list)):\n",
    "    for j in range(0,len(state['State'])):\n",
    "        if list[i] == state['State'][j]:\n",
    "            can.loc[can['order state']==list[i], 'order state'] = state['Code'][j]\n"
   ]
  },
  {
   "cell_type": "code",
   "execution_count": 9,
   "metadata": {},
   "outputs": [
    {
     "name": "stderr",
     "output_type": "stream",
     "text": [
      "C:\\Users\\carlo\\Anaconda3\\lib\\site-packages\\pandas\\core\\ops.py:1649: FutureWarning: elementwise comparison failed; returning scalar instead, but in the future will perform elementwise comparison\n",
      "  result = method(y)\n"
     ]
    },
    {
     "data": {
      "text/html": [
       "<div>\n",
       "<style scoped>\n",
       "    .dataframe tbody tr th:only-of-type {\n",
       "        vertical-align: middle;\n",
       "    }\n",
       "\n",
       "    .dataframe tbody tr th {\n",
       "        vertical-align: top;\n",
       "    }\n",
       "\n",
       "    .dataframe thead th {\n",
       "        text-align: right;\n",
       "    }\n",
       "</style>\n",
       "<table border=\"1\" class=\"dataframe\">\n",
       "  <thead>\n",
       "    <tr style=\"text-align: right;\">\n",
       "      <th></th>\n",
       "      <th>date</th>\n",
       "      <th>type</th>\n",
       "      <th>order id</th>\n",
       "      <th>sku</th>\n",
       "      <th>description</th>\n",
       "      <th>quantity</th>\n",
       "      <th>order city</th>\n",
       "      <th>order state</th>\n",
       "      <th>order postal</th>\n",
       "      <th>product sales</th>\n",
       "      <th>selling fees</th>\n",
       "      <th>fba fees</th>\n",
       "      <th>landing cost</th>\n",
       "    </tr>\n",
       "  </thead>\n",
       "  <tbody>\n",
       "  </tbody>\n",
       "</table>\n",
       "</div>"
      ],
      "text/plain": [
       "Empty DataFrame\n",
       "Columns: [date, type, order id, sku, description, quantity, order city, order state, order postal, product sales, selling fees, fba fees, landing cost]\n",
       "Index: []"
      ]
     },
     "execution_count": 9,
     "metadata": {},
     "output_type": "execute_result"
    }
   ],
   "source": [
    "# can['order state'] = can['order state'].str.capitalize()\n",
    "# can['order state'\n",
    "# can['order state'].unique()\n",
    "can.loc[can['landing cost'] == 'QC']"
   ]
  },
  {
   "cell_type": "code",
   "execution_count": 10,
   "metadata": {},
   "outputs": [
    {
     "data": {
      "text/plain": [
       "date                                                    2019-01-02\n",
       "type                                                         Order\n",
       "order id                                       701-3826782-7408219\n",
       "sku                                                     OMR-BP742N\n",
       "description      Omron BP742N 5 Series Upper Arm Blood Pressure...\n",
       "quantity                                                         1\n",
       "order city                                                Montreal\n",
       "order state                                                 québec\n",
       "order postal                                                H2A2K6\n",
       "product sales                                                 67.9\n",
       "selling fees                                                 10.19\n",
       "fba fees                                                      6.11\n",
       "landing cost                                                 29.15\n",
       "Name: 27, dtype: object"
      ]
     },
     "execution_count": 10,
     "metadata": {},
     "output_type": "execute_result"
    }
   ],
   "source": [
    "can.iloc[27]"
   ]
  },
  {
   "cell_type": "code",
   "execution_count": 11,
   "metadata": {},
   "outputs": [],
   "source": [
    "can.loc[can['order state'] == 'québec','order state'] = 'QC'\n",
    "can.loc[can['order state'] == 'nouveau-brunswick','order state'] = 'NB'\n",
    "can.loc[can['order state'] == 'b.c.','order state'] = 'BC'\n",
    "can.loc[can['order state'] == 'newfoundland','order state'] = 'NL'\n"
   ]
  },
  {
   "cell_type": "code",
   "execution_count": 13,
   "metadata": {},
   "outputs": [
    {
     "data": {
      "text/plain": [
       "date                                                    2019-01-02\n",
       "type                                                         Order\n",
       "order id                                       701-3826782-7408219\n",
       "sku                                                     OMR-BP742N\n",
       "description      Omron BP742N 5 Series Upper Arm Blood Pressure...\n",
       "quantity                                                         1\n",
       "order city                                                Montreal\n",
       "order state                                                     QC\n",
       "order postal                                                H2A2K6\n",
       "product sales                                                 67.9\n",
       "selling fees                                                 10.19\n",
       "fba fees                                                      6.11\n",
       "landing cost                                                 29.15\n",
       "Name: 27, dtype: object"
      ]
     },
     "execution_count": 13,
     "metadata": {},
     "output_type": "execute_result"
    }
   ],
   "source": [
    "# can.loc[can['landing cost']=='NB']\n",
    "can.iloc[27]"
   ]
  },
  {
   "cell_type": "code",
   "execution_count": 14,
   "metadata": {},
   "outputs": [
    {
     "data": {
      "text/html": [
       "<div>\n",
       "<style scoped>\n",
       "    .dataframe tbody tr th:only-of-type {\n",
       "        vertical-align: middle;\n",
       "    }\n",
       "\n",
       "    .dataframe tbody tr th {\n",
       "        vertical-align: top;\n",
       "    }\n",
       "\n",
       "    .dataframe thead th {\n",
       "        text-align: right;\n",
       "    }\n",
       "</style>\n",
       "<table border=\"1\" class=\"dataframe\">\n",
       "  <thead>\n",
       "    <tr style=\"text-align: right;\">\n",
       "      <th></th>\n",
       "      <th>date</th>\n",
       "      <th>type</th>\n",
       "      <th>order id</th>\n",
       "      <th>sku</th>\n",
       "      <th>description</th>\n",
       "      <th>quantity</th>\n",
       "      <th>order city</th>\n",
       "      <th>order state</th>\n",
       "      <th>order postal</th>\n",
       "      <th>product sales</th>\n",
       "      <th>selling fees</th>\n",
       "      <th>fba fees</th>\n",
       "      <th>landing cost</th>\n",
       "    </tr>\n",
       "  </thead>\n",
       "  <tbody>\n",
       "    <tr>\n",
       "      <th>1494</th>\n",
       "      <td>2019-02-05</td>\n",
       "      <td>Order</td>\n",
       "      <td>701-6970479-4319455</td>\n",
       "      <td>3MM-1527-1-12 (2)</td>\n",
       "      <td>3M 1527-1 Transpore Tape (Pack of 12)</td>\n",
       "      <td>1</td>\n",
       "      <td>Etobicoke</td>\n",
       "      <td>NaN</td>\n",
       "      <td>M8X 2L7</td>\n",
       "      <td>16.6</td>\n",
       "      <td>1.99</td>\n",
       "      <td>6.11</td>\n",
       "      <td>NaN</td>\n",
       "    </tr>\n",
       "    <tr>\n",
       "      <th>10971</th>\n",
       "      <td>2019-08-28</td>\n",
       "      <td>Order</td>\n",
       "      <td>702-7154599-5041026</td>\n",
       "      <td>KEL-GEL15GM</td>\n",
       "      <td>Sinclair Kelo-Cote Gel for Scars 15g</td>\n",
       "      <td>1</td>\n",
       "      <td>St. John's</td>\n",
       "      <td>NaN</td>\n",
       "      <td>A1H 1A2</td>\n",
       "      <td>31.0</td>\n",
       "      <td>4.65</td>\n",
       "      <td>3.81</td>\n",
       "      <td>16.26</td>\n",
       "    </tr>\n",
       "  </tbody>\n",
       "</table>\n",
       "</div>"
      ],
      "text/plain": [
       "             date   type             order id                sku  \\\n",
       "1494   2019-02-05  Order  701-6970479-4319455  3MM-1527-1-12 (2)   \n",
       "10971  2019-08-28  Order  702-7154599-5041026        KEL-GEL15GM   \n",
       "\n",
       "                                 description  quantity  order city  \\\n",
       "1494   3M 1527-1 Transpore Tape (Pack of 12)         1   Etobicoke   \n",
       "10971   Sinclair Kelo-Cote Gel for Scars 15g         1  St. John's   \n",
       "\n",
       "      order state order postal  product sales  selling fees  fba fees  \\\n",
       "1494          NaN      M8X 2L7           16.6          1.99      6.11   \n",
       "10971         NaN      A1H 1A2           31.0          4.65      3.81   \n",
       "\n",
       "       landing cost  \n",
       "1494            NaN  \n",
       "10971         16.26  "
      ]
     },
     "execution_count": 14,
     "metadata": {},
     "output_type": "execute_result"
    }
   ],
   "source": [
    "can[can['order state'].isnull()]"
   ]
  },
  {
   "cell_type": "code",
   "execution_count": 15,
   "metadata": {},
   "outputs": [],
   "source": [
    "can.loc[can['order city']=='Etobicoke','order state'] = 'ON'\n",
    "can.loc[can['order city']==\"St. John's\",'order state'] = 'NL'"
   ]
  },
  {
   "cell_type": "code",
   "execution_count": 16,
   "metadata": {},
   "outputs": [],
   "source": [
    "can = can.dropna()"
   ]
  },
  {
   "cell_type": "code",
   "execution_count": 17,
   "metadata": {},
   "outputs": [
    {
     "data": {
      "text/html": [
       "<div>\n",
       "<style scoped>\n",
       "    .dataframe tbody tr th:only-of-type {\n",
       "        vertical-align: middle;\n",
       "    }\n",
       "\n",
       "    .dataframe tbody tr th {\n",
       "        vertical-align: top;\n",
       "    }\n",
       "\n",
       "    .dataframe thead th {\n",
       "        text-align: right;\n",
       "    }\n",
       "</style>\n",
       "<table border=\"1\" class=\"dataframe\">\n",
       "  <thead>\n",
       "    <tr style=\"text-align: right;\">\n",
       "      <th></th>\n",
       "      <th>date</th>\n",
       "      <th>type</th>\n",
       "      <th>order id</th>\n",
       "      <th>sku</th>\n",
       "      <th>description</th>\n",
       "      <th>quantity</th>\n",
       "      <th>order city</th>\n",
       "      <th>order state</th>\n",
       "      <th>order postal</th>\n",
       "      <th>product sales</th>\n",
       "      <th>selling fees</th>\n",
       "      <th>fba fees</th>\n",
       "      <th>landing cost</th>\n",
       "    </tr>\n",
       "  </thead>\n",
       "  <tbody>\n",
       "  </tbody>\n",
       "</table>\n",
       "</div>"
      ],
      "text/plain": [
       "Empty DataFrame\n",
       "Columns: [date, type, order id, sku, description, quantity, order city, order state, order postal, product sales, selling fees, fba fees, landing cost]\n",
       "Index: []"
      ]
     },
     "execution_count": 17,
     "metadata": {},
     "output_type": "execute_result"
    }
   ],
   "source": [
    "can[can['landing cost'].isnull()]"
   ]
  },
  {
   "cell_type": "code",
   "execution_count": 18,
   "metadata": {},
   "outputs": [],
   "source": [
    "can['order state'] = can['order state'].str.upper()"
   ]
  },
  {
   "cell_type": "code",
   "execution_count": 19,
   "metadata": {},
   "outputs": [],
   "source": [
    "can = can.loc[can['landing cost'] !=0]"
   ]
  },
  {
   "cell_type": "code",
   "execution_count": 21,
   "metadata": {},
   "outputs": [],
   "source": [
    "can.to_csv('canadaConsolidatedReady.csv')"
   ]
  },
  {
   "cell_type": "code",
   "execution_count": null,
   "metadata": {},
   "outputs": [],
   "source": []
  }
 ],
 "metadata": {
  "kernelspec": {
   "display_name": "Python 3",
   "language": "python",
   "name": "python3"
  },
  "language_info": {
   "codemirror_mode": {
    "name": "ipython",
    "version": 3
   },
   "file_extension": ".py",
   "mimetype": "text/x-python",
   "name": "python",
   "nbconvert_exporter": "python",
   "pygments_lexer": "ipython3",
   "version": "3.7.3"
  }
 },
 "nbformat": 4,
 "nbformat_minor": 2
}
